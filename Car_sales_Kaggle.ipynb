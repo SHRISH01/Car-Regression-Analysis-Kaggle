{
  "nbformat": 4,
  "nbformat_minor": 0,
  "metadata": {
    "colab": {
      "provenance": []
    },
    "kernelspec": {
      "name": "python3",
      "display_name": "Python 3"
    },
    "language_info": {
      "name": "python"
    }
  },
  "cells": [
    {
      "cell_type": "code",
      "execution_count": 1,
      "metadata": {
        "colab": {
          "base_uri": "https://localhost:8080/",
          "height": 74
        },
        "id": "qs4_kKkHCHPg",
        "outputId": "dbd4fbcf-7fa8-4963-a104-2de505d5d852"
      },
      "outputs": [
        {
          "output_type": "display_data",
          "data": {
            "text/plain": [
              "<IPython.core.display.HTML object>"
            ],
            "text/html": [
              "\n",
              "     <input type=\"file\" id=\"files-a711f290-22e0-4837-b5cc-5d9d6be0a836\" name=\"files[]\" multiple disabled\n",
              "        style=\"border:none\" />\n",
              "     <output id=\"result-a711f290-22e0-4837-b5cc-5d9d6be0a836\">\n",
              "      Upload widget is only available when the cell has been executed in the\n",
              "      current browser session. Please rerun this cell to enable.\n",
              "      </output>\n",
              "      <script>// Copyright 2017 Google LLC\n",
              "//\n",
              "// Licensed under the Apache License, Version 2.0 (the \"License\");\n",
              "// you may not use this file except in compliance with the License.\n",
              "// You may obtain a copy of the License at\n",
              "//\n",
              "//      http://www.apache.org/licenses/LICENSE-2.0\n",
              "//\n",
              "// Unless required by applicable law or agreed to in writing, software\n",
              "// distributed under the License is distributed on an \"AS IS\" BASIS,\n",
              "// WITHOUT WARRANTIES OR CONDITIONS OF ANY KIND, either express or implied.\n",
              "// See the License for the specific language governing permissions and\n",
              "// limitations under the License.\n",
              "\n",
              "/**\n",
              " * @fileoverview Helpers for google.colab Python module.\n",
              " */\n",
              "(function(scope) {\n",
              "function span(text, styleAttributes = {}) {\n",
              "  const element = document.createElement('span');\n",
              "  element.textContent = text;\n",
              "  for (const key of Object.keys(styleAttributes)) {\n",
              "    element.style[key] = styleAttributes[key];\n",
              "  }\n",
              "  return element;\n",
              "}\n",
              "\n",
              "// Max number of bytes which will be uploaded at a time.\n",
              "const MAX_PAYLOAD_SIZE = 100 * 1024;\n",
              "\n",
              "function _uploadFiles(inputId, outputId) {\n",
              "  const steps = uploadFilesStep(inputId, outputId);\n",
              "  const outputElement = document.getElementById(outputId);\n",
              "  // Cache steps on the outputElement to make it available for the next call\n",
              "  // to uploadFilesContinue from Python.\n",
              "  outputElement.steps = steps;\n",
              "\n",
              "  return _uploadFilesContinue(outputId);\n",
              "}\n",
              "\n",
              "// This is roughly an async generator (not supported in the browser yet),\n",
              "// where there are multiple asynchronous steps and the Python side is going\n",
              "// to poll for completion of each step.\n",
              "// This uses a Promise to block the python side on completion of each step,\n",
              "// then passes the result of the previous step as the input to the next step.\n",
              "function _uploadFilesContinue(outputId) {\n",
              "  const outputElement = document.getElementById(outputId);\n",
              "  const steps = outputElement.steps;\n",
              "\n",
              "  const next = steps.next(outputElement.lastPromiseValue);\n",
              "  return Promise.resolve(next.value.promise).then((value) => {\n",
              "    // Cache the last promise value to make it available to the next\n",
              "    // step of the generator.\n",
              "    outputElement.lastPromiseValue = value;\n",
              "    return next.value.response;\n",
              "  });\n",
              "}\n",
              "\n",
              "/**\n",
              " * Generator function which is called between each async step of the upload\n",
              " * process.\n",
              " * @param {string} inputId Element ID of the input file picker element.\n",
              " * @param {string} outputId Element ID of the output display.\n",
              " * @return {!Iterable<!Object>} Iterable of next steps.\n",
              " */\n",
              "function* uploadFilesStep(inputId, outputId) {\n",
              "  const inputElement = document.getElementById(inputId);\n",
              "  inputElement.disabled = false;\n",
              "\n",
              "  const outputElement = document.getElementById(outputId);\n",
              "  outputElement.innerHTML = '';\n",
              "\n",
              "  const pickedPromise = new Promise((resolve) => {\n",
              "    inputElement.addEventListener('change', (e) => {\n",
              "      resolve(e.target.files);\n",
              "    });\n",
              "  });\n",
              "\n",
              "  const cancel = document.createElement('button');\n",
              "  inputElement.parentElement.appendChild(cancel);\n",
              "  cancel.textContent = 'Cancel upload';\n",
              "  const cancelPromise = new Promise((resolve) => {\n",
              "    cancel.onclick = () => {\n",
              "      resolve(null);\n",
              "    };\n",
              "  });\n",
              "\n",
              "  // Wait for the user to pick the files.\n",
              "  const files = yield {\n",
              "    promise: Promise.race([pickedPromise, cancelPromise]),\n",
              "    response: {\n",
              "      action: 'starting',\n",
              "    }\n",
              "  };\n",
              "\n",
              "  cancel.remove();\n",
              "\n",
              "  // Disable the input element since further picks are not allowed.\n",
              "  inputElement.disabled = true;\n",
              "\n",
              "  if (!files) {\n",
              "    return {\n",
              "      response: {\n",
              "        action: 'complete',\n",
              "      }\n",
              "    };\n",
              "  }\n",
              "\n",
              "  for (const file of files) {\n",
              "    const li = document.createElement('li');\n",
              "    li.append(span(file.name, {fontWeight: 'bold'}));\n",
              "    li.append(span(\n",
              "        `(${file.type || 'n/a'}) - ${file.size} bytes, ` +\n",
              "        `last modified: ${\n",
              "            file.lastModifiedDate ? file.lastModifiedDate.toLocaleDateString() :\n",
              "                                    'n/a'} - `));\n",
              "    const percent = span('0% done');\n",
              "    li.appendChild(percent);\n",
              "\n",
              "    outputElement.appendChild(li);\n",
              "\n",
              "    const fileDataPromise = new Promise((resolve) => {\n",
              "      const reader = new FileReader();\n",
              "      reader.onload = (e) => {\n",
              "        resolve(e.target.result);\n",
              "      };\n",
              "      reader.readAsArrayBuffer(file);\n",
              "    });\n",
              "    // Wait for the data to be ready.\n",
              "    let fileData = yield {\n",
              "      promise: fileDataPromise,\n",
              "      response: {\n",
              "        action: 'continue',\n",
              "      }\n",
              "    };\n",
              "\n",
              "    // Use a chunked sending to avoid message size limits. See b/62115660.\n",
              "    let position = 0;\n",
              "    do {\n",
              "      const length = Math.min(fileData.byteLength - position, MAX_PAYLOAD_SIZE);\n",
              "      const chunk = new Uint8Array(fileData, position, length);\n",
              "      position += length;\n",
              "\n",
              "      const base64 = btoa(String.fromCharCode.apply(null, chunk));\n",
              "      yield {\n",
              "        response: {\n",
              "          action: 'append',\n",
              "          file: file.name,\n",
              "          data: base64,\n",
              "        },\n",
              "      };\n",
              "\n",
              "      let percentDone = fileData.byteLength === 0 ?\n",
              "          100 :\n",
              "          Math.round((position / fileData.byteLength) * 100);\n",
              "      percent.textContent = `${percentDone}% done`;\n",
              "\n",
              "    } while (position < fileData.byteLength);\n",
              "  }\n",
              "\n",
              "  // All done.\n",
              "  yield {\n",
              "    response: {\n",
              "      action: 'complete',\n",
              "    }\n",
              "  };\n",
              "}\n",
              "\n",
              "scope.google = scope.google || {};\n",
              "scope.google.colab = scope.google.colab || {};\n",
              "scope.google.colab._files = {\n",
              "  _uploadFiles,\n",
              "  _uploadFilesContinue,\n",
              "};\n",
              "})(self);\n",
              "</script> "
            ]
          },
          "metadata": {}
        },
        {
          "output_type": "stream",
          "name": "stdout",
          "text": [
            "Saving Car-Price-Hst.csv to Car-Price-Hst (1).csv\n"
          ]
        }
      ],
      "source": [
        "from google.colab import files\n",
        "file = files.upload()"
      ]
    },
    {
      "cell_type": "code",
      "source": [
        "import pyspark"
      ],
      "metadata": {
        "id": "pWQsT0GeDD2M"
      },
      "execution_count": 2,
      "outputs": []
    },
    {
      "cell_type": "code",
      "source": [
        "from pyspark.sql import SparkSession\n",
        "spark = SparkSession.builder.appName('Car-sales-Regression-analysis').getOrCreate()"
      ],
      "metadata": {
        "id": "SzqP4VlrDdrV"
      },
      "execution_count": 3,
      "outputs": []
    },
    {
      "cell_type": "code",
      "source": [
        "spark"
      ],
      "metadata": {
        "colab": {
          "base_uri": "https://localhost:8080/",
          "height": 221
        },
        "id": "HvcwhfHDDoxZ",
        "outputId": "7ead3963-2a09-408f-fe0d-18cb2d3b3fe8"
      },
      "execution_count": 4,
      "outputs": [
        {
          "output_type": "execute_result",
          "data": {
            "text/plain": [
              "<pyspark.sql.session.SparkSession at 0x7a11d1f53eb0>"
            ],
            "text/html": [
              "\n",
              "            <div>\n",
              "                <p><b>SparkSession - in-memory</b></p>\n",
              "                \n",
              "        <div>\n",
              "            <p><b>SparkContext</b></p>\n",
              "\n",
              "            <p><a href=\"http://8dff3be1af3c:4040\">Spark UI</a></p>\n",
              "\n",
              "            <dl>\n",
              "              <dt>Version</dt>\n",
              "                <dd><code>v3.5.3</code></dd>\n",
              "              <dt>Master</dt>\n",
              "                <dd><code>local[*]</code></dd>\n",
              "              <dt>AppName</dt>\n",
              "                <dd><code>Car-sales-Regression-analysis</code></dd>\n",
              "            </dl>\n",
              "        </div>\n",
              "        \n",
              "            </div>\n",
              "        "
            ]
          },
          "metadata": {},
          "execution_count": 4
        }
      ]
    },
    {
      "cell_type": "code",
      "source": [
        "df = spark.read.csv('Car-Price-Hst.csv', header=True, inferSchema=True)"
      ],
      "metadata": {
        "id": "t5uUPYFJDpm1"
      },
      "execution_count": 5,
      "outputs": []
    },
    {
      "cell_type": "code",
      "source": [
        "df.show()"
      ],
      "metadata": {
        "colab": {
          "base_uri": "https://localhost:8080/"
        },
        "id": "hSNqm94uDyup",
        "outputId": "0df7ffdc-0216-49d9-c16c-966ed68ba470"
      },
      "execution_count": 6,
      "outputs": [
        {
          "output_type": "stream",
          "name": "stdout",
          "text": [
            "+-------------+------+---------+-------+-------+-----------+------------+----+----------------+\n",
            "|        Brand| Price|     Body|Mileage|EngineV|Engine Type|Registration|Year|           Model|\n",
            "+-------------+------+---------+-------+-------+-----------+------------+----+----------------+\n",
            "|          BMW|  4200|    sedan|    277|      2|     Petrol|         yes|1991|             320|\n",
            "|Mercedes-Benz|  7900|      van|    427|    2.9|     Diesel|         yes|1999|    Sprinter 212|\n",
            "|Mercedes-Benz| 13300|    sedan|    358|      5|        Gas|         yes|2003|           S 500|\n",
            "|         Audi| 23000|crossover|    240|    4.2|     Petrol|         yes|2007|              Q7|\n",
            "|       Toyota| 18300|crossover|    120|      2|     Petrol|         yes|2011|           Rav 4|\n",
            "|Mercedes-Benz|199999|crossover|      0|    5.5|     Petrol|         yes|2016|          GLS 63|\n",
            "|          BMW|  6100|    sedan|    438|      2|        Gas|         yes|1997|             320|\n",
            "|         Audi| 14200|    vagon|    200|    2.7|     Diesel|         yes|2006|              A6|\n",
            "|      Renault| 10799|    vagon|    193|    1.5|     Diesel|         yes|2012|          Megane|\n",
            "|   Volkswagen|  1400|    other|    212|    1.8|        Gas|          no|1999|         Golf IV|\n",
            "|      Renault| 11950|    vagon|    177|    1.5|     Diesel|         yes|2011|          Megane|\n",
            "|      Renault|  2500|    sedan|    260|   1.79|     Petrol|         yes|1994|              19|\n",
            "|         Audi|  9500|    vagon|    165|    2.7|        Gas|         yes|2003|      A6 Allroad|\n",
            "|   Volkswagen| 10500|    sedan|    100|    1.8|     Petrol|         yes|2008|       Passat B6|\n",
            "|       Toyota| 16000|crossover|    250|    4.7|        Gas|         yes|2001|Land Cruiser 100|\n",
            "|      Renault|  8600|    hatch|     84|    1.5|     Diesel|         yes|2012|            Clio|\n",
            "|          BMW|  2990|    other|    203|      2|     Petrol|          no|2001|             318|\n",
            "|Mercedes-Benz|    NA|      van|    240|    2.2|     Diesel|         yes|2007|            Vito|\n",
            "|       Toyota| 26500|crossover|     21|      2|     Petrol|         yes|2013|           Rav 4|\n",
            "|         Audi|  3500|    vagon|    250|    2.5|     Diesel|          no|1998|              A6|\n",
            "+-------------+------+---------+-------+-------+-----------+------------+----+----------------+\n",
            "only showing top 20 rows\n",
            "\n"
          ]
        }
      ]
    },
    {
      "cell_type": "code",
      "source": [
        "df.describe().show()"
      ],
      "metadata": {
        "colab": {
          "base_uri": "https://localhost:8080/"
        },
        "id": "8ZIIXwXgEOjX",
        "outputId": "36dde1b4-bae4-46bd-fe12-0040deb25933"
      },
      "execution_count": 7,
      "outputs": [
        {
          "output_type": "stream",
          "name": "stdout",
          "text": [
            "+-------+----------+-----------------+---------+------------------+-----------------+-----------+------------+------------------+------------------+\n",
            "|summary|     Brand|            Price|     Body|           Mileage|          EngineV|Engine Type|Registration|              Year|             Model|\n",
            "+-------+----------+-----------------+---------+------------------+-----------------+-----------+------------+------------------+------------------+\n",
            "|  count|      4345|             4345|     4345|              4345|             4345|       4345|        4345|              4345|              4345|\n",
            "|   mean|      NULL|19418.74693505871|     NULL| 161.2372842347526|2.790734207389744|       NULL|        NULL|2006.5500575373992| 447.7392120075047|\n",
            "| stddev|      NULL|25584.24262025089|     NULL|105.70579715642641|5.066437281595026|       NULL|        NULL|  6.71909682043085|185.61755668714557|\n",
            "|    min|      Audi|            10000|crossover|                 0|              0.6|     Diesel|          no|              1969|          1 Series|\n",
            "|    max|Volkswagen|               NA|      van|               980|               NA|     Petrol|         yes|              2016|                Z4|\n",
            "+-------+----------+-----------------+---------+------------------+-----------------+-----------+------------+------------------+------------------+\n",
            "\n"
          ]
        }
      ]
    },
    {
      "cell_type": "code",
      "source": [
        "num_rows = df.count()\n",
        "num_cols = len(df.columns)\n",
        "print(f\"Number of rows: {num_rows}\")\n",
        "print(f\"Number of columns: {num_cols}\")"
      ],
      "metadata": {
        "colab": {
          "base_uri": "https://localhost:8080/"
        },
        "id": "EXC2JLMmFNL4",
        "outputId": "d9314893-d21a-440b-ec23-89713dae04eb"
      },
      "execution_count": 8,
      "outputs": [
        {
          "output_type": "stream",
          "name": "stdout",
          "text": [
            "Number of rows: 4345\n",
            "Number of columns: 9\n"
          ]
        }
      ]
    },
    {
      "cell_type": "code",
      "source": [
        "# Finding the nan values columnwise"
      ],
      "metadata": {
        "id": "CTekSddLEY6v"
      },
      "execution_count": 9,
      "outputs": []
    },
    {
      "cell_type": "code",
      "source": [
        "from pyspark.sql.functions import isnan, when, count"
      ],
      "metadata": {
        "id": "4zIvJznwE1mH"
      },
      "execution_count": 10,
      "outputs": []
    },
    {
      "cell_type": "code",
      "source": [
        "nan_counts = df.select([count(when(isnan(c), c)).alias(c) for c in df.columns]).collect()[0]\n",
        "\n",
        "for column, count in nan_counts.asDict().items():\n",
        "    print(f\"Column '{column}' has {count} NaN values.\")"
      ],
      "metadata": {
        "colab": {
          "base_uri": "https://localhost:8080/"
        },
        "id": "o-FdU0z0E2gZ",
        "outputId": "724a5193-484a-4c8f-cc99-22d6be67f58b"
      },
      "execution_count": 11,
      "outputs": [
        {
          "output_type": "stream",
          "name": "stdout",
          "text": [
            "Column 'Brand' has 0 NaN values.\n",
            "Column 'Price' has 0 NaN values.\n",
            "Column 'Body' has 0 NaN values.\n",
            "Column 'Mileage' has 0 NaN values.\n",
            "Column 'EngineV' has 0 NaN values.\n",
            "Column 'Engine Type' has 0 NaN values.\n",
            "Column 'Registration' has 0 NaN values.\n",
            "Column 'Year' has 0 NaN values.\n",
            "Column 'Model' has 0 NaN values.\n"
          ]
        }
      ]
    },
    {
      "cell_type": "code",
      "source": [
        "# Encoding"
      ],
      "metadata": {
        "id": "5ydxFe3XGrlM"
      },
      "execution_count": 12,
      "outputs": []
    },
    {
      "cell_type": "code",
      "source": [
        "from pyspark.ml.feature import StringIndexer, OneHotEncoder"
      ],
      "metadata": {
        "id": "yHidmck7GsDB"
      },
      "execution_count": 13,
      "outputs": []
    },
    {
      "cell_type": "code",
      "source": [
        "df.show(1)"
      ],
      "metadata": {
        "colab": {
          "base_uri": "https://localhost:8080/"
        },
        "id": "OmTZbFx0H1Mb",
        "outputId": "6d02ed12-831b-4ef7-f113-9a8be9090ff1"
      },
      "execution_count": 14,
      "outputs": [
        {
          "output_type": "stream",
          "name": "stdout",
          "text": [
            "+-----+-----+-----+-------+-------+-----------+------------+----+-----+\n",
            "|Brand|Price| Body|Mileage|EngineV|Engine Type|Registration|Year|Model|\n",
            "+-----+-----+-----+-------+-------+-----------+------------+----+-----+\n",
            "|  BMW| 4200|sedan|    277|      2|     Petrol|         yes|1991|  320|\n",
            "+-----+-----+-----+-------+-------+-----------+------------+----+-----+\n",
            "only showing top 1 row\n",
            "\n"
          ]
        }
      ]
    },
    {
      "cell_type": "code",
      "source": [
        "df.describe()"
      ],
      "metadata": {
        "colab": {
          "base_uri": "https://localhost:8080/"
        },
        "id": "vkx8FVSZI7D5",
        "outputId": "45a8c9cb-e3c4-4c2b-e127-5de3c2926f78"
      },
      "execution_count": 15,
      "outputs": [
        {
          "output_type": "execute_result",
          "data": {
            "text/plain": [
              "DataFrame[summary: string, Brand: string, Price: string, Body: string, Mileage: string, EngineV: string, Engine Type: string, Registration: string, Year: string, Model: string]"
            ]
          },
          "metadata": {},
          "execution_count": 15
        }
      ]
    },
    {
      "cell_type": "code",
      "source": [
        "df.printSchema()"
      ],
      "metadata": {
        "colab": {
          "base_uri": "https://localhost:8080/"
        },
        "id": "9u4ns0ekJ5tT",
        "outputId": "d9125f8f-95c6-4c8e-9da3-524c949a48e7"
      },
      "execution_count": 16,
      "outputs": [
        {
          "output_type": "stream",
          "name": "stdout",
          "text": [
            "root\n",
            " |-- Brand: string (nullable = true)\n",
            " |-- Price: string (nullable = true)\n",
            " |-- Body: string (nullable = true)\n",
            " |-- Mileage: integer (nullable = true)\n",
            " |-- EngineV: string (nullable = true)\n",
            " |-- Engine Type: string (nullable = true)\n",
            " |-- Registration: string (nullable = true)\n",
            " |-- Year: integer (nullable = true)\n",
            " |-- Model: string (nullable = true)\n",
            "\n"
          ]
        }
      ]
    },
    {
      "cell_type": "code",
      "source": [
        "indexer = StringIndexer(inputCols=['Brand','Price','Body','EngineV','Engine Type','Registration','Model'], outputCols=['i_Brand','i_Price','i_Body','i_ngineV','i_Engine_Type','i_Registration','i_Model'])\n",
        "indexed_df = indexer.fit(df).transform(df)"
      ],
      "metadata": {
        "id": "7SElv7upGsHa"
      },
      "execution_count": 17,
      "outputs": []
    },
    {
      "cell_type": "code",
      "source": [
        "indexed_df.show(2)"
      ],
      "metadata": {
        "colab": {
          "base_uri": "https://localhost:8080/"
        },
        "id": "L2DsKRL_J4PY",
        "outputId": "9b03c389-77c6-41f7-cbc7-71a9308828c1"
      },
      "execution_count": 18,
      "outputs": [
        {
          "output_type": "stream",
          "name": "stdout",
          "text": [
            "+-------------+-----+-----+-------+-------+-----------+------------+----+------------+-------+-------+------+--------+-------------+--------------+-------+\n",
            "|        Brand|Price| Body|Mileage|EngineV|Engine Type|Registration|Year|       Model|i_Brand|i_Price|i_Body|i_ngineV|i_Engine_Type|i_Registration|i_Model|\n",
            "+-------------+-----+-----+-------+-------+-----------+------------+----+------------+-------+-------+------+--------+-------------+--------------+-------+\n",
            "|          BMW| 4200|sedan|    277|      2|     Petrol|         yes|1991|         320|    2.0|  109.0|   0.0|     0.0|          1.0|           0.0|   14.0|\n",
            "|Mercedes-Benz| 7900|  van|    427|    2.9|     Diesel|         yes|1999|Sprinter 212|    1.0|   41.0|   2.0|    29.0|          0.0|           0.0|  189.0|\n",
            "+-------------+-----+-----+-------+-------+-----------+------------+----+------------+-------+-------+------+--------+-------------+--------------+-------+\n",
            "only showing top 2 rows\n",
            "\n"
          ]
        }
      ]
    },
    {
      "cell_type": "code",
      "source": [
        "encoder = OneHotEncoder(inputCols=['i_Brand','i_Price','i_Body','i_ngineV','i_Engine_Type','i_Registration','i_Model'], outputCols=['encoded_Brand','encoded_Price','encoded_Body','encoded_EngineV','encoded_Engine_Type','encoded_Registration','encoded_Model'])\n",
        "encoded_df = encoder.fit(indexed_df).transform(indexed_df)"
      ],
      "metadata": {
        "id": "eGSl2-rcGsKF"
      },
      "execution_count": 19,
      "outputs": []
    },
    {
      "cell_type": "code",
      "source": [
        "encoded_df.show(2)"
      ],
      "metadata": {
        "colab": {
          "base_uri": "https://localhost:8080/"
        },
        "id": "QAC58ZsPGsMq",
        "outputId": "8fad79d2-9c51-424a-cd4b-54517f6120e2"
      },
      "execution_count": 20,
      "outputs": [
        {
          "output_type": "stream",
          "name": "stdout",
          "text": [
            "+-------------+-----+-----+-------+-------+-----------+------------+----+------------+-------+-------+------+--------+-------------+--------------+-------+-------------+-----------------+-------------+---------------+-------------------+--------------------+-----------------+\n",
            "|        Brand|Price| Body|Mileage|EngineV|Engine Type|Registration|Year|       Model|i_Brand|i_Price|i_Body|i_ngineV|i_Engine_Type|i_Registration|i_Model|encoded_Brand|    encoded_Price| encoded_Body|encoded_EngineV|encoded_Engine_Type|encoded_Registration|    encoded_Model|\n",
            "+-------------+-----+-----+-------+-------+-----------+------------+----+------------+-------+-------+------+--------+-------------+--------------+-------+-------------+-----------------+-------------+---------------+-------------------+--------------------+-----------------+\n",
            "|          BMW| 4200|sedan|    277|      2|     Petrol|         yes|1991|         320|    2.0|  109.0|   0.0|     0.0|          1.0|           0.0|   14.0|(6,[2],[1.0])|(906,[109],[1.0])|(5,[0],[1.0])| (73,[0],[1.0])|      (3,[1],[1.0])|       (1,[0],[1.0])| (311,[14],[1.0])|\n",
            "|Mercedes-Benz| 7900|  van|    427|    2.9|     Diesel|         yes|1999|Sprinter 212|    1.0|   41.0|   2.0|    29.0|          0.0|           0.0|  189.0|(6,[1],[1.0])| (906,[41],[1.0])|(5,[2],[1.0])|(73,[29],[1.0])|      (3,[0],[1.0])|       (1,[0],[1.0])|(311,[189],[1.0])|\n",
            "+-------------+-----+-----+-------+-------+-----------+------------+----+------------+-------+-------+------+--------+-------------+--------------+-------+-------------+-----------------+-------------+---------------+-------------------+--------------------+-----------------+\n",
            "only showing top 2 rows\n",
            "\n"
          ]
        }
      ]
    },
    {
      "cell_type": "code",
      "source": [
        "# Spliting the dataset"
      ],
      "metadata": {
        "id": "LtGM6LfCGsPP"
      },
      "execution_count": 21,
      "outputs": []
    },
    {
      "cell_type": "code",
      "source": [
        "(training_data, test_data) = encoded_df.randomSplit([0.9, 0.1], seed=42)\n",
        "\n",
        "# Print the number of rows in each set\n",
        "print(\"Number of rows in training set:\", training_data.count())\n",
        "print(\"Number of rows in test set:\", test_data.count())"
      ],
      "metadata": {
        "colab": {
          "base_uri": "https://localhost:8080/"
        },
        "id": "qfqxQJCxMblL",
        "outputId": "5b475843-64fd-4b14-a672-65a5d1a018a2"
      },
      "execution_count": 22,
      "outputs": [
        {
          "output_type": "stream",
          "name": "stdout",
          "text": [
            "Number of rows in training set: 3912\n",
            "Number of rows in test set: 433\n"
          ]
        }
      ]
    },
    {
      "cell_type": "code",
      "source": [
        "# 'Price' is the target variable\n",
        "feature_cols = [col for col in training_data.columns if col != 'Price']\n",
        "\n",
        "# Select the features and target variable\n",
        "X_train = training_data.select(feature_cols)\n",
        "y_train = training_data.select('Price')\n",
        "\n",
        "X_test = test_data.select(feature_cols)\n",
        "y_test = test_data.select('Price')"
      ],
      "metadata": {
        "id": "2jmWXeE2MdOF"
      },
      "execution_count": 23,
      "outputs": []
    },
    {
      "cell_type": "code",
      "source": [
        "X_train.count()"
      ],
      "metadata": {
        "colab": {
          "base_uri": "https://localhost:8080/"
        },
        "id": "Zbl0C6H3NlKk",
        "outputId": "0ceb2d95-455b-4255-dba6-4a42d6fbec20"
      },
      "execution_count": 24,
      "outputs": [
        {
          "output_type": "execute_result",
          "data": {
            "text/plain": [
              "3912"
            ]
          },
          "metadata": {},
          "execution_count": 24
        }
      ]
    },
    {
      "cell_type": "code",
      "source": [
        "y_test.count()"
      ],
      "metadata": {
        "colab": {
          "base_uri": "https://localhost:8080/"
        },
        "id": "rpZ3zJXONo_V",
        "outputId": "b775c7bd-5d77-46f7-d7e1-149bcfb07b56"
      },
      "execution_count": 25,
      "outputs": [
        {
          "output_type": "execute_result",
          "data": {
            "text/plain": [
              "433"
            ]
          },
          "metadata": {},
          "execution_count": 25
        }
      ]
    },
    {
      "cell_type": "code",
      "source": [
        "# Implementing the ML Regression Alg.\n"
      ],
      "metadata": {
        "id": "IZnxoOEQN60g"
      },
      "execution_count": 26,
      "outputs": []
    },
    {
      "cell_type": "code",
      "source": [
        "from pyspark.ml.regression import LinearRegression\n",
        "from pyspark.ml.evaluation import RegressionEvaluator\n",
        "from pyspark.ml.feature import VectorAssembler"
      ],
      "metadata": {
        "id": "fUYuJo9yOQKj"
      },
      "execution_count": 27,
      "outputs": []
    },
    {
      "cell_type": "code",
      "source": [
        "from pyspark.ml.linalg import DenseVector\n",
        "from pyspark.sql.functions import udf\n",
        "from pyspark.sql.types import DoubleType\n",
        "\n",
        "# Define a UDF to convert sparse vectors to a scalar value\n",
        "def vector_to_double(vector):\n",
        "    return float(vector.values[0]) if vector.values else 0.0\n",
        "\n",
        "# Register the UDF\n",
        "vector_to_double_udf = udf(vector_to_double, DoubleType())\n",
        "\n",
        "# Apply the UDF to convert encoded_Price into a numeric column\n",
        "assembled_data = assembled_data.withColumn(\"label\", vector_to_double_udf(\"encoded_Price\"))\n",
        "\n",
        "# Verify the structure of assembled_data\n",
        "assembled_data.select(\"features\", \"label\").show(5)\n",
        "\n",
        "# Step 2: Initialize and train the Linear Regression model\n",
        "lr = LinearRegression(featuresCol=\"features\", labelCol=\"label\")\n",
        "lr_model = lr.fit(assembled_data)\n",
        "\n",
        "# Step 3: Make predictions on the data\n",
        "predictions = lr_model.transform(assembled_data)\n",
        "\n",
        "# Step 4: Evaluate the model using RMSE\n",
        "evaluator = RegressionEvaluator(labelCol=\"label\", predictionCol=\"prediction\", metricName=\"rmse\")\n",
        "rmse = evaluator.evaluate(predictions)\n",
        "print(f\"Root Mean Squared Error (RMSE): {rmse}\")\n",
        "\n",
        "# Optional: Show some example predictions\n",
        "predictions.select(\"features\", \"label\", \"prediction\").show(5)\n"
      ],
      "metadata": {
        "colab": {
          "base_uri": "https://localhost:8080/"
        },
        "id": "s2O4UorQVEVe",
        "outputId": "828557e3-cec2-468e-c338-1710b48397b5"
      },
      "execution_count": 35,
      "outputs": [
        {
          "output_type": "stream",
          "name": "stdout",
          "text": [
            "+--------------------+-----+\n",
            "|            features|label|\n",
            "+--------------------+-----+\n",
            "|(399,[2,6,11,85,8...|  1.0|\n",
            "|(399,[1,8,40,84,8...|  1.0|\n",
            "|(399,[1,6,29,86,8...|  1.0|\n",
            "|(399,[5,7,30,85,8...|  1.0|\n",
            "|(399,[3,7,11,85,8...|  1.0|\n",
            "+--------------------+-----+\n",
            "only showing top 5 rows\n",
            "\n",
            "Root Mean Squared Error (RMSE): 0.015078073278277338\n",
            "+--------------------+-----+------------------+\n",
            "|            features|label|        prediction|\n",
            "+--------------------+-----+------------------+\n",
            "|(399,[2,6,11,85,8...|  1.0|1.0003893979883913|\n",
            "|(399,[1,8,40,84,8...|  1.0|0.9997226973455153|\n",
            "|(399,[1,6,29,86,8...|  1.0|1.0002176853716014|\n",
            "|(399,[5,7,30,85,8...|  1.0|1.0001904181015626|\n",
            "|(399,[3,7,11,85,8...|  1.0| 1.000163938387686|\n",
            "+--------------------+-----+------------------+\n",
            "only showing top 5 rows\n",
            "\n"
          ]
        }
      ]
    },
    {
      "cell_type": "code",
      "source": [],
      "metadata": {
        "id": "jK3a4o6NUlhj"
      },
      "execution_count": null,
      "outputs": []
    }
  ]
}